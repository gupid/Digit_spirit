{
 "cells": [
  {
   "cell_type": "code",
   "execution_count": 2,
   "id": "6b36d644",
   "metadata": {},
   "outputs": [],
   "source": [
    "import pandas as pd\n",
    "import numpy as np\n",
    "import matplotlib.pyplot as plt\n",
    "import seaborn as sns\n",
    "from sklearn.model_selection import train_test_split, cross_val_score\n",
    "from sklearn.preprocessing import LabelEncoder\n",
    "from xgboost import XGBClassifier\n",
    "from sklearn.metrics import accuracy_score, classification_report, confusion_matrix\n",
    "import joblib\n",
    "# 指定支持中文的字体，例如 'SimHei'\n",
    "plt.rcParams['font.sans-serif'] = ['SimHei']\n",
    "# 解决负号 '-' 显示为方块的问题\n",
    "plt.rcParams['axes.unicode_minus'] = False"
   ]
  },
  {
   "cell_type": "code",
   "execution_count": null,
   "id": "b234bb27",
   "metadata": {},
   "outputs": [
    {
     "name": "stdout",
     "output_type": "stream",
     "text": [
      "标签分布情况:\n",
      " label\n",
      "1    1191\n",
      "3     562\n",
      "2     534\n",
      "0     421\n",
      "Name: count, dtype: int64\n",
      "\n",
      "idle状态下RAM均值: 59.5805\n",
      "idle状态下CPU均值: 6.0687\n",
      "idle状态下GPU均值: 26.4307\n",
      "idle状态下GPU VRAM均值: 16.2869\n",
      "\n",
      "处理后的数据预览:\n",
      "      timestamp  session_id  keyboard_counts  keyboard_counts_freq\n",
      "2688     8618.0           5                0                   0.0\n",
      "2689     8619.0           5                0                   0.0\n",
      "2690     8620.0           5                0                   0.0\n",
      "2691     8621.0           5                0                   0.0\n",
      "2692     8622.0           5                0                   0.0\n",
      "2693     8623.0           5                0                   0.0\n",
      "2694     8624.0           5                0                   0.0\n",
      "2695     8625.0           5                0                   0.0\n",
      "2696     8626.0           5                0                   0.0\n",
      "2697     8627.0           5                0                   0.0\n",
      "2698     8628.0           5                0                   0.0\n",
      "2699     8629.0           5                0                   0.0\n",
      "2700     8630.0           5                0                   0.0\n",
      "2701     8631.0           5                0                   0.0\n",
      "2702     8632.0           5                0                   0.0\n",
      "2703     8633.0           5                0                   0.0\n",
      "2704     8634.0           5                0                   0.0\n",
      "2705     8635.0           5                0                   0.0\n",
      "2706     8636.0           5                0                   0.0\n",
      "2707     8637.0           5                0                   0.0\n"
     ]
    }
   ],
   "source": [
    "import pandas as pd\n",
    "from sklearn.preprocessing import LabelEncoder\n",
    "\n",
    "# 加载数据集\n",
    "df = pd.read_csv('system_log.csv')\n",
    "\n",
    "# --- 数据预处理 ---\n",
    "\n",
    "# 1. 将时间戳转换为datetime对象并排序\n",
    "df['timestamp'] = pd.to_datetime(df['timestamp'])\n",
    "df = df.sort_values('timestamp').reset_index(drop=True)\n",
    "\n",
    "# 2. 识别数据采集的会话（Session）\n",
    "time_diff = df['timestamp'].diff()\n",
    "session_threshold = pd.Timedelta('1 minute')\n",
    "df['session_id'] = (time_diff > session_threshold).cumsum()\n",
    "\n",
    "# 3. 【关键修正】将'timestamp'设置成索引\n",
    "# 这是最核心的改动。让所有操作都基于一个显式的时间索引。\n",
    "df = df.set_index('timestamp')\n",
    "\n",
    "# 4. 在每个会话内部进行滑动窗口处理\n",
    "window_size = '10s' \n",
    "features_to_roll = [\n",
    "    'mouse_left_click',\n",
    "    'mouse_right_click',\n",
    "    'mouse_scroll',\n",
    "    'keyboard_counts',\n",
    "    'mouse_distance'\n",
    "]\n",
    "\n",
    "for col in features_to_roll:\n",
    "    new_col_name = f'{col}_freq'\n",
    "    # 现在我们按session_id分组，并在时间索引上直接进行滚动计算\n",
    "    # 注意，这里不再需要 on='timestamp' 参数，因为rolling操作默认就在索引上执行\n",
    "    rolled_series = df.groupby('session_id')[col].rolling(window=window_size).sum()\n",
    "    \n",
    "    # 结果的索引是 (session_id, timestamp)，我们需要去掉第一层session_id来对齐\n",
    "    df[new_col_name] = rolled_series.reset_index(level=0, drop=True)\n",
    "\n",
    "df = df.reset_index()\n",
    "\n",
    "# 6. 将时间戳转换为自第一个时间戳以来的总秒数\n",
    "df['timestamp'] = (df['timestamp'] - df['timestamp'].min()).dt.total_seconds()\n",
    "\n",
    "# 7. 对 'label' 列进行编码\n",
    "label_encoder = LabelEncoder()\n",
    "df['label'] = label_encoder.fit_transform(df['label'])\n",
    "print(\"标签分布情况:\\n\", df['label'].value_counts())\n",
    "num_classes = df['label'].nunique()\n",
    "\n",
    "# 8. 用idle均值校准系统资源使用率\n",
    "idle_value = label_encoder.transform(['idle'])[0]\n",
    "is_idle = df['label'] == idle_value\n",
    "idle_data = df[is_idle]\n",
    "\n",
    "cpu_mean = idle_data['cpu_percent'].mean()\n",
    "ram_mean = idle_data['ram_percent'].mean()\n",
    "gpu_mean = idle_data['gpu_percent'].mean()\n",
    "gpu_vram_mean = idle_data['gpu_vram_percent'].mean()\n",
    "\n",
    "print(f\"\\nidle状态下RAM均值: {ram_mean:.4f}\")\n",
    "print(f\"idle状态下CPU均值: {cpu_mean:.4f}\")\n",
    "print(f\"idle状态下GPU均值: {gpu_mean:.4f}\")\n",
    "print(f\"idle状态下GPU VRAM均值: {gpu_vram_mean:.4f}\\n\")\n",
    "\n",
    "df['cpu_percent'] -= cpu_mean\n",
    "df['ram_percent'] -= ram_mean\n",
    "df['gpu_percent'] -= gpu_mean\n",
    "df['gpu_vram_percent'] -= gpu_vram_mean\n",
    "\n",
    "# 9. 处理滑动窗口产生的NaN值（通常是每个会话最开始的几个点）\n",
    "df.fillna(0, inplace=True)\n",
    "\n",
    "print(\"处理后的数据预览:\")\n",
    "print(df[['timestamp', 'session_id', 'keyboard_counts', 'keyboard_counts_freq']].tail(20))\n",
    "df.to_csv('processed_system_log.csv', index=False)"
   ]
  },
  {
   "cell_type": "code",
   "execution_count": null,
   "id": "ea01451b",
   "metadata": {},
   "outputs": [
    {
     "name": "stdout",
     "output_type": "stream",
     "text": [
      "<class 'pandas.core.frame.DataFrame'>\n",
      "RangeIndex: 2708 entries, 0 to 2707\n",
      "Data columns (total 9 columns):\n",
      " #   Column             Non-Null Count  Dtype  \n",
      "---  ------             --------------  -----  \n",
      " 0   mouse_distance     2708 non-null   float64\n",
      " 1   mouse_left_click   2708 non-null   int64  \n",
      " 2   mouse_right_click  2708 non-null   int64  \n",
      " 3   mouse_scroll       2708 non-null   int64  \n",
      " 4   keyboard_counts    2708 non-null   int64  \n",
      " 5   cpu_percent        2708 non-null   float64\n",
      " 6   ram_percent        2708 non-null   float64\n",
      " 7   gpu_percent        2708 non-null   float64\n",
      " 8   gpu_vram_percent   2708 non-null   float64\n",
      "dtypes: float64(5), int64(4)\n",
      "memory usage: 190.5 KB\n"
     ]
    }
   ],
   "source": [
    "# 分离特征 (X) 和目标 (y)\n",
    "X = df.drop(['label','timestamp','mouse_distance','mouse_left_click','mouse_right_click','mouse_scroll','keyboard_counts'], axis=1)\n",
    "y = df['label']\n",
    "X.info()\n",
    "# 将数据拆分为训练集和测试集\n",
    "X_train, X_test, y_train, y_test = train_test_split(X, y, test_size=0.2, random_state=42)"
   ]
  },
  {
   "cell_type": "code",
   "execution_count": null,
   "id": "a8bc0946",
   "metadata": {},
   "outputs": [
    {
     "name": "stdout",
     "output_type": "stream",
     "text": [
      "--- 1. 执行5折交叉验证 ---\n",
      "交叉验证的每次准确率分数: [0.9797048  1.         0.99077491 0.99630314 0.94454713]\n",
      "交叉验证的平均准确率: 0.9823 (+/- 0.0201)\n",
      "\n"
     ]
    }
   ],
   "source": [
    "model = XGBClassifier(\n",
    "    objective='multi:softprob',  # 明确指定为多分类任务\n",
    "    num_class=num_classes,       # 明确告知类别的数量\n",
    "    eval_metric='mlogloss'       \n",
    ")\n",
    "# 评估方法一: 5折交叉验证\n",
    "print(\"--- 1. 执行5折交叉验证 ---\")\n",
    "# 使用 cross_val_score 函数进行交叉验证，cv=5 表示5折\n",
    "cv_scores = cross_val_score(model, X, y, cv=5, scoring='accuracy')\n",
    "print(f\"交叉验证的每次准确率分数: {cv_scores}\")\n",
    "print(f\"交叉验证的平均准确率: {np.mean(cv_scores):.4f} (+/- {np.std(cv_scores):.4f})\\n\")\n",
    "# 在训练集上训练模型，用于后续的评估\n",
    "model.fit(X_train, y_train)\n",
    "\n",
    "# 在测试集上进行预测\n",
    "y_pred = model.predict(X_test)"
   ]
  },
  {
   "cell_type": "code",
   "execution_count": null,
   "id": "011c24fd",
   "metadata": {},
   "outputs": [
    {
     "name": "stdout",
     "output_type": "stream",
     "text": [
      "--- 2. 分类报告 ---\n",
      "              precision    recall  f1-score   support\n",
      "\n",
      "      coding       0.98      0.98      0.98        89\n",
      "      gaming       1.00      1.00      1.00       240\n",
      "        idle       1.00      1.00      1.00       109\n",
      "       video       0.98      0.97      0.98       104\n",
      "\n",
      "    accuracy                           0.99       542\n",
      "   macro avg       0.99      0.99      0.99       542\n",
      "weighted avg       0.99      0.99      0.99       542\n",
      "\n"
     ]
    }
   ],
   "source": [
    "# 评估方法二: 分类报告\n",
    "print(\"--- 2. 分类报告 ---\")\n",
    "# 获取原始的类别名称，用于报告显示\n",
    "target_names = label_encoder.classes_\n",
    "# 打印每个类别的精确率、召回率和F1分数\n",
    "print(classification_report(y_test, y_pred, target_names=target_names))"
   ]
  },
  {
   "cell_type": "code",
   "execution_count": null,
   "id": "bb3f690e",
   "metadata": {},
   "outputs": [
    {
     "name": "stdout",
     "output_type": "stream",
     "text": [
      "--- 3. 生成混淆矩阵图 (confusion_matrix.png) ---\n",
      "混淆矩阵图已保存。\n",
      "\n"
     ]
    }
   ],
   "source": [
    "# 评估方法三: 混淆矩阵可视化\n",
    "print(\"--- 3. 生成混淆矩阵图 (confusion_matrix.png) ---\")\n",
    "cm = confusion_matrix(y_test, y_pred)\n",
    "plt.figure(figsize=(10, 8))\n",
    "sns.heatmap(cm, annot=True, fmt='d', cmap='Blues', xticklabels=target_names, yticklabels=target_names)\n",
    "plt.title('混淆矩阵 (Confusion Matrix)', fontsize=16)\n",
    "plt.ylabel('真实标签 (Actual Label)', fontsize=12)\n",
    "plt.xlabel('预测标签 (Predicted Label)', fontsize=12)\n",
    "# 保存图像到文件\n",
    "plt.savefig('confusion_matrix.png')\n",
    "plt.close() # 关闭图像，防止显示混乱\n",
    "print(\"混淆矩阵图已保存。\\n\")"
   ]
  },
  {
   "cell_type": "code",
   "execution_count": null,
   "id": "43f39e9e",
   "metadata": {},
   "outputs": [
    {
     "name": "stdout",
     "output_type": "stream",
     "text": [
      "--- 4. 生成特征重要性图 (feature_importance.png) ---\n",
      "特征重要性图已保存。\n",
      "\n",
      "所有评估已完成。\n"
     ]
    },
    {
     "name": "stderr",
     "output_type": "stream",
     "text": [
      "C:\\Users\\GUPID\\AppData\\Local\\Temp\\ipykernel_15580\\3862479974.py:9: FutureWarning: \n",
      "\n",
      "Passing `palette` without assigning `hue` is deprecated and will be removed in v0.14.0. Assign the `y` variable to `hue` and set `legend=False` for the same effect.\n",
      "\n",
      "  sns.barplot(x='Importance', y='Feature', data=importance_df, palette='viridis')\n"
     ]
    }
   ],
   "source": [
    "# 评估方法四: 特征重要性可视化\n",
    "print(\"--- 4. 生成特征重要性图 (feature_importance.png) ---\")\n",
    "feature_importances = model.feature_importances_\n",
    "features = X.columns\n",
    "importance_df = pd.DataFrame({'Feature': features, 'Importance': feature_importances})\n",
    "# 按重要性得分降序排列\n",
    "importance_df = importance_df.sort_values(by='Importance', ascending=False)\n",
    "plt.figure(figsize=(12, 6))\n",
    "sns.barplot(x='Importance', y='Feature', data=importance_df, palette='viridis')\n",
    "plt.title('特征重要性 (Feature Importance)', fontsize=16)\n",
    "plt.xlabel('重要性得分 (Importance Score)', fontsize=12)\n",
    "plt.ylabel('特征 (Features)', fontsize=12)\n",
    "plt.tight_layout() # 调整布局以防标签重叠\n",
    "# 保存图像到文件\n",
    "plt.savefig('feature_importance.png')\n",
    "plt.close() # 关闭图像\n",
    "print(\"特征重要性图已保存。\\n\")\n",
    "\n",
    "print(\"所有评估已完成。\")"
   ]
  },
  {
   "cell_type": "code",
   "execution_count": null,
   "id": "cf6bace1",
   "metadata": {},
   "outputs": [
    {
     "name": "stdout",
     "output_type": "stream",
     "text": [
      "模型已保存为 'xgboost_model.joblib'\n",
      "编码器已保存为 'label_encoder.joblib'\n"
     ]
    }
   ],
   "source": [
    "# 保存模型到文件\n",
    "joblib.dump(model, 'xgboost_model.joblib')\n",
    "\n",
    "# 保存 LabelEncoder 到文件\n",
    "joblib.dump(label_encoder, 'label_encoder.joblib')\n",
    "\n",
    "print(\"模型已保存为 'xgboost_model.joblib'\")\n",
    "print(\"编码器已保存为 'label_encoder.joblib'\")"
   ]
  }
 ],
 "metadata": {
  "kernelspec": {
   "display_name": "esp_robot_env",
   "language": "python",
   "name": "python3"
  },
  "language_info": {
   "codemirror_mode": {
    "name": "ipython",
    "version": 3
   },
   "file_extension": ".py",
   "mimetype": "text/x-python",
   "name": "python",
   "nbconvert_exporter": "python",
   "pygments_lexer": "ipython3",
   "version": "3.12.11"
  }
 },
 "nbformat": 4,
 "nbformat_minor": 5
}
