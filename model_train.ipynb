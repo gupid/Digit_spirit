{
 "cells": [
  {
   "cell_type": "code",
   "execution_count": 2,
   "id": "6b36d644",
   "metadata": {},
   "outputs": [],
   "source": [
    "import pandas as pd\n",
    "from sklearn.model_selection import train_test_split\n",
    "from sklearn.preprocessing import LabelEncoder\n",
    "from xgboost import XGBClassifier\n",
    "from sklearn.metrics import accuracy_score"
   ]
  },
  {
   "cell_type": "code",
   "execution_count": 3,
   "id": "b234bb27",
   "metadata": {},
   "outputs": [],
   "source": [
    "# 加载数据集\n",
    "df = pd.read_csv('system_log.csv')\n",
    "\n",
    "# 数据预处理\n",
    "# 将时间戳转换为自第一个时间戳以来的总秒数\n",
    "df['timestamp'] = pd.to_datetime(df['timestamp'])\n",
    "df['timestamp'] = (df['timestamp'] - df['timestamp'].min()).dt.total_seconds()\n",
    "\n",
    "# 对 'label' 列进行编码\n",
    "label_encoder = LabelEncoder()\n",
    "df['label'] = label_encoder.fit_transform(df['label'])\n",
    "num_classes = df['label'].nunique()\n",
    "# 分离特征 (X) 和目标 (y)\n",
    "X = df.drop('label', axis=1)\n",
    "y = df['label']\n",
    "\n",
    "# 将数据拆分为训练集和测试集\n",
    "X_train, X_test, y_train, y_test = train_test_split(X, y, test_size=0.2, random_state=42)"
   ]
  },
  {
   "cell_type": "code",
   "execution_count": null,
   "id": "a8bc0946",
   "metadata": {},
   "outputs": [
    {
     "name": "stdout",
     "output_type": "stream",
     "text": [
      "模型的准确率为: 0.0\n"
     ]
    },
    {
     "name": "stderr",
     "output_type": "stream",
     "text": [
      "e:\\anaconda3\\envs\\esp_robot_env\\Lib\\site-packages\\xgboost\\training.py:183: UserWarning: [18:32:20] WARNING: C:\\actions-runner\\_work\\xgboost\\xgboost\\src\\learner.cc:738: \n",
      "Parameters: { \"use_label_encoder\" } are not used.\n",
      "\n",
      "  bst.update(dtrain, iteration=i, fobj=obj)\n"
     ]
    }
   ],
   "source": [
    "model = XGBClassifier(\n",
    "    objective='multi:softprob',  # 明确指定为多分类任务\n",
    "    num_class=num_classes,       # 明确告知类别的数量\n",
    "    use_label_encoder=False,\n",
    "    eval_metric='mlogloss'\n",
    ")\n",
    "model.fit(X_train, y_train)\n",
    "\n",
    "# 进行预测并评估模型\n",
    "y_pred = model.predict(X_test)\n",
    "accuracy = accuracy_score(y_test, y_pred)\n",
    "\n",
    "print(f\"模型的准确率为: {accuracy}\")"
   ]
  },
  {
   "cell_type": "code",
   "execution_count": null,
   "id": "011c24fd",
   "metadata": {},
   "outputs": [],
   "source": []
  }
 ],
 "metadata": {
  "kernelspec": {
   "display_name": "esp_robot_env",
   "language": "python",
   "name": "python3"
  },
  "language_info": {
   "codemirror_mode": {
    "name": "ipython",
    "version": 3
   },
   "file_extension": ".py",
   "mimetype": "text/x-python",
   "name": "python",
   "nbconvert_exporter": "python",
   "pygments_lexer": "ipython3",
   "version": "3.12.11"
  }
 },
 "nbformat": 4,
 "nbformat_minor": 5
}
